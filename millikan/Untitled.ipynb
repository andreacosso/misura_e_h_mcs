{
 "cells": [
  {
   "cell_type": "markdown",
   "id": "265439dc",
   "metadata": {},
   "source": [
    "analisi dati millikan"
   ]
  },
  {
   "cell_type": "code",
   "execution_count": 29,
   "id": "8dc4eeb9",
   "metadata": {},
   "outputs": [
    {
     "data": {
      "image/png": "[encoded data removed]",
      "text/plain": [
       "<IPython.core.display.Image object>"
      ]
     },
     "metadata": {},
     "output_type": "display_data"
    },
    {
     "name": "stdout",
     "output_type": "stream",
     "text": [
      " FCN=15.4386 FROM MIGRAD    STATUS=CONVERGED     283 CALLS         284 TOTAL\n",
      "                     EDM=3.90564e-07    STRATEGY= 1      ERROR MATRIX ACCURATE \n",
      "  EXT PARAMETER                                   STEP         FIRST   \n",
      "  NO.   NAME      VALUE            ERROR          SIZE      DERIVATIVE \n",
      "   1  p0           1.61796e+00   2.22835e-02   6.08394e-05  -2.07782e-02\n",
      "   2  p1           3.63961e-01   3.37035e-02   7.34927e-05  -1.13972e-02\n",
      "   3  p2           4.41766e+00   1.08422e+00   2.79135e-03  -1.73199e-04\n",
      "   4  p3           5.29987e+00   1.21755e+00   3.08540e-03  -4.00994e-05\n",
      "   5  p4           6.23331e+00   1.34992e+00   3.31762e-03   3.17060e-05\n",
      "                               ERR DEF= 0.5\n"
     ]
    },
    {
     "name": "stderr",
     "output_type": "stream",
     "text": [
      "Warning in <TROOT::Append>: Replacing existing TH1: histo (Potential memory leak).\n"
     ]
    }
   ],
   "source": [
    "ifstream file(\"milikan.dat\");\n",
    "\n",
    "auto histo = new TH1D(\"histo\",\"millikan\",65,0.,0.);\n",
    "auto c = new TCanvas();\n",
    "\n",
    "double k = 0;\n",
    "while(file >> k){\n",
    "    histo->Fill(k);\n",
    "}\n",
    "\n",
    "c->Draw();\n",
    "c->cd();\n",
    "histo->Draw();\n",
    "\n",
    " \n",
    "auto f = new TF1(\"f\",\"[2]*TMath::Gaus(x,[0],[1]) + [3]*TMath::Gaus(x,2*[0],[1]) + [4]*TMath::Gaus(x,3*[0],[1])\",0.,6);\n",
    "f->SetParameter(0,1.602);\n",
    "//f->SetParLimits(0,1.59,1.6025);\n",
    "f->SetParameter(1,0.2);\n",
    "f->SetParameter(2,0.4);\n",
    "f->SetParameter(3,0.4);\n",
    "f->SetParameter(4,0.4);\n",
    "histo->Fit(\"f\",\"LR\");\n",
    "//histo->Fit(\"gaus\",\"\",\"\",0.,6.2);\n"
   ]
  },
  {
   "cell_type": "code",
   "execution_count": 24,
   "id": "a34b0b61",
   "metadata": {},
   "outputs": [
    {
     "name": "stdout",
     "output_type": "stream",
     "text": [
      "(double) 1.0000000\n"
     ]
    }
   ],
   "source": [
    "using namespace std;\n",
    "double po=f->GetParameter(0);\n",
    "double epo=f->GetParError(0);\n",
    "double e = 1.602;\n",
    "double a=0;\n",
    "if(abs(e-po) < 3*epo){\n",
    "    a=1;    \n",
    "}\n",
    "a\n"
   ]
  },
  {
   "cell_type": "code",
   "execution_count": null,
   "id": "adcdc7ef",
   "metadata": {},
   "outputs": [],
   "source": []
  }
 ],
 "metadata": {
  "kernelspec": {
   "display_name": "ROOT C++",
   "language": "c++",
   "name": "root"
  },
  "language_info": {
   "codemirror_mode": "text/x-c++src",
   "file_extension": ".C",
   "mimetype": " text/x-c++src",
   "name": "c++"
  }
 },
 "nbformat": 4,
 "nbformat_minor": 5
}
